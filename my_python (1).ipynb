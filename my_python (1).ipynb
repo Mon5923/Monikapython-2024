{
  "nbformat": 4,
  "nbformat_minor": 0,
  "metadata": {
    "colab": {
      "provenance": []
    },
    "kernelspec": {
      "name": "python3",
      "display_name": "Python 3"
    },
    "language_info": {
      "name": "python"
    }
  },
  "cells": [
    {
      "cell_type": "code",
      "execution_count": null,
      "metadata": {
        "colab": {
          "base_uri": "https://localhost:8080/"
        },
        "id": "AQt1wKyqUADd",
        "outputId": "332eff63-b1d2-4ce2-d628-d57efc95dd32"
      },
      "outputs": [
        {
          "output_type": "stream",
          "name": "stdout",
          "text": [
            "Hello, world!\n",
            "RAJESH KANNAN\n",
            "POWER SYSTEM ENGINEERING\n"
          ]
        }
      ],
      "source": [
        "print(\"Hello, world!\")\n",
        "print(\"RAJESH KANNAN\")\n",
        "print(\"POWER SYSTEM ENGINEERING\")\n",
        "\n",
        "\n"
      ]
    },
    {
      "cell_type": "code",
      "source": [
        "print(\"monika\")\n",
        "\"\"\"\n",
        "gjkgtrtc\n",
        "utrere\n",
        "fuiyytfh\n",
        "\"\"\"\n"
      ],
      "metadata": {
        "colab": {
          "base_uri": "https://localhost:8080/",
          "height": 54
        },
        "id": "F123kGTKdvuG",
        "outputId": "1d659ed4-361f-4de4-884e-244f329d1bfb"
      },
      "execution_count": null,
      "outputs": [
        {
          "output_type": "stream",
          "name": "stdout",
          "text": [
            "monika\n"
          ]
        },
        {
          "output_type": "execute_result",
          "data": {
            "text/plain": [
              "'\\ngjkgtrtc\\nutrere\\nfuiyytfh\\n'"
            ],
            "application/vnd.google.colaboratory.intrinsic+json": {
              "type": "string"
            }
          },
          "metadata": {},
          "execution_count": 9
        }
      ]
    },
    {
      "cell_type": "code",
      "source": [
        "a=10\n",
        "b=3.14\n",
        "name='rajesh'\n",
        "print(\"a,b,name\")\n",
        "print(name+\"good\")"
      ],
      "metadata": {
        "colab": {
          "base_uri": "https://localhost:8080/"
        },
        "id": "9VGjvwaG61J8",
        "outputId": "c24bd712-032c-4bb0-e6b1-7ea4fff860c1"
      },
      "execution_count": null,
      "outputs": [
        {
          "output_type": "stream",
          "name": "stdout",
          "text": [
            "a,b,name\n",
            "rajeshgood\n"
          ]
        }
      ]
    },
    {
      "cell_type": "code",
      "source": [],
      "metadata": {
        "id": "Mopq8UHd8Jxj"
      },
      "execution_count": null,
      "outputs": []
    },
    {
      "cell_type": "markdown",
      "source": [
        "add two integers"
      ],
      "metadata": {
        "id": "tt_QorfE8S7i"
      }
    },
    {
      "cell_type": "code",
      "source": [
        "a=8\n",
        "b=9\n",
        "print(a+b)"
      ],
      "metadata": {
        "colab": {
          "base_uri": "https://localhost:8080/"
        },
        "id": "tGMJ_wiY8XV6",
        "outputId": "48f903d4-bd2a-40d8-9259-430c1a525fd2"
      },
      "execution_count": null,
      "outputs": [
        {
          "output_type": "stream",
          "name": "stdout",
          "text": [
            "17\n"
          ]
        }
      ]
    },
    {
      "cell_type": "markdown",
      "source": [
        "# add two *integers*"
      ],
      "metadata": {
        "id": "SGlMikzt87Kp"
      }
    },
    {
      "cell_type": "code",
      "source": [
        "a=int(input(\"enter first number\"))\n",
        "b=int(input(\"enter second number\"))\n",
        "print(a+b)"
      ],
      "metadata": {
        "colab": {
          "base_uri": "https://localhost:8080/"
        },
        "id": "6W53weRy9G76",
        "outputId": "4c12052d-b6e9-4c67-c139-a17aed5b9131"
      },
      "execution_count": null,
      "outputs": [
        {
          "output_type": "stream",
          "name": "stdout",
          "text": [
            "enter first number5\n",
            "enter second number9\n",
            "14\n"
          ]
        }
      ]
    },
    {
      "cell_type": "markdown",
      "source": [
        "calculate the area of circle"
      ],
      "metadata": {
        "id": "ZqPiJ_an-Tkh"
      }
    },
    {
      "cell_type": "code",
      "source": [
        "radius= float(input(\"enter the radius\"))\n",
        "pi=3.14\n",
        "area=pi* radius**2\n",
        "print(\"area of circle is :\",area)"
      ],
      "metadata": {
        "colab": {
          "base_uri": "https://localhost:8080/"
        },
        "id": "a9zadKqE-agq",
        "outputId": "ee16bb06-4965-4fca-da86-64afb88bd01f"
      },
      "execution_count": null,
      "outputs": [
        {
          "output_type": "stream",
          "name": "stdout",
          "text": [
            "enter the radius30\n",
            "area of circle is : 2826.0\n"
          ]
        }
      ]
    },
    {
      "cell_type": "code",
      "source": [
        "a=int(input(\"enter a number\"))\n",
        "b=int(input(\"enter a number\"))\n",
        "print(a+b)\n",
        "print(a-b)\n",
        "print(a*b)\n",
        "print(a/b)\n",
        "print(a%b)\n",
        "print(a**b)"
      ],
      "metadata": {
        "colab": {
          "base_uri": "https://localhost:8080/"
        },
        "id": "k9do0Wu0BlvR",
        "outputId": "e36948f1-9ed2-400c-ef67-33526baa7210"
      },
      "execution_count": null,
      "outputs": [
        {
          "output_type": "stream",
          "name": "stdout",
          "text": [
            "enter a number6\n",
            "enter a number7\n",
            "13\n",
            "-1\n",
            "42\n",
            "0.8571428571428571\n",
            "6\n",
            "279936\n"
          ]
        }
      ]
    },
    {
      "cell_type": "markdown",
      "source": [
        "# area of *rectangle*"
      ],
      "metadata": {
        "id": "--GgMmPxHqzA"
      }
    },
    {
      "cell_type": "code",
      "source": [],
      "metadata": {
        "id": "X3N2RUtOJwcP"
      },
      "execution_count": null,
      "outputs": []
    },
    {
      "cell_type": "markdown",
      "source": [],
      "metadata": {
        "id": "jQBvo3a4JxUn"
      }
    },
    {
      "cell_type": "markdown",
      "source": [],
      "metadata": {
        "id": "NPDoegIfJzj_"
      }
    },
    {
      "cell_type": "code",
      "source": [
        "p=float(input(\"princile amount \"))\n",
        "n=float(input(\"number of years\"))\n",
        "r=float(input(\"rate of intrest\"))\n",
        "si=(p*n*r)/100\n",
        "print(si)\n",
        "\n",
        "\n",
        "\n"
      ],
      "metadata": {
        "colab": {
          "base_uri": "https://localhost:8080/"
        },
        "id": "kl2Yc71aFnow",
        "outputId": "f05dae0f-6f90-4fb6-b62c-18b4a7c8bd31"
      },
      "execution_count": null,
      "outputs": [
        {
          "output_type": "stream",
          "name": "stdout",
          "text": [
            "princile amount 100\n",
            "number of years1\n",
            "rate of intrest1000\n",
            "1000.0\n"
          ]
        }
      ]
    },
    {
      "cell_type": "markdown",
      "source": [
        "# area of rectangle"
      ],
      "metadata": {
        "id": "3nY5ngVLJ12P"
      }
    },
    {
      "cell_type": "code",
      "source": [
        "length=float(input(\"enter the length of the rectangle\"))\n",
        "width=float(input(\"enter tthe width of the rectangle\"))\n",
        "area=length*width\n",
        "perimetr=2*(length+width)\n",
        "print(\"AREA\",area)\n",
        "print(\"perimeter:\",perimeter)"
      ],
      "metadata": {
        "colab": {
          "base_uri": "https://localhost:8080/"
        },
        "id": "3AIlpfucJ7du",
        "outputId": "0be1a92d-b8a8-448d-dfbc-93586e811e25"
      },
      "execution_count": null,
      "outputs": [
        {
          "output_type": "stream",
          "name": "stdout",
          "text": [
            "enter the length of the rectangle8\n",
            "enter tthe width of the rectangle9\n",
            "AREA 72.0\n",
            "perimeter: 32.0\n"
          ]
        }
      ]
    },
    {
      "cell_type": "code",
      "source": [
        "a=int(input(\"enter minutes\"))\n",
        "hour=a/60\n",
        "minute=a%60\n",
        "c=a//b\n",
        "print(hour,minute,c)\n"
      ],
      "metadata": {
        "colab": {
          "base_uri": "https://localhost:8080/"
        },
        "id": "_JamRO_ILOvX",
        "outputId": "d24f15b9-0c9a-4d3a-f952-30053f629e29"
      },
      "execution_count": null,
      "outputs": [
        {
          "output_type": "stream",
          "name": "stdout",
          "text": [
            "enter minutes125\n",
            "2.0833333333333335 5 13\n"
          ]
        }
      ]
    },
    {
      "cell_type": "code",
      "source": [
        "a=5\n",
        "b=6\n",
        "\n",
        "print(f\"{a}is smaller than{b}\")\n"
      ],
      "metadata": {
        "colab": {
          "base_uri": "https://localhost:8080/"
        },
        "id": "48y2AeqDMmYf",
        "outputId": "eae717de-5398-4a3b-deb7-5d061da161cc"
      },
      "execution_count": null,
      "outputs": [
        {
          "output_type": "stream",
          "name": "stdout",
          "text": [
            "5is smaller than6\n"
          ]
        }
      ]
    }
  ]
}